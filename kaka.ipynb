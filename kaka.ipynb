{
 "cells": [
  {
   "cell_type": "code",
   "execution_count": null,
   "metadata": {},
   "outputs": [],
   "source": [
    "import pandas as pd\n",
    "import numpy as np"
   ]
  },
  {
   "cell_type": "markdown",
   "metadata": {},
   "source": [
    "**Dataset Buıld Code For large Amount of Data**"
   ]
  },
  {
   "cell_type": "code",
   "execution_count": null,
   "metadata": {},
   "outputs": [],
   "source": [
    "all_pos = pd.read_csv(\"Suicide_Detection.csv\")"
   ]
  },
  {
   "cell_type": "code",
   "execution_count": null,
   "metadata": {},
   "outputs": [],
   "source": [
    "all_pos.drop(\"Unnamed: 0\",axis=1)"
   ]
  },
  {
   "cell_type": "code",
   "execution_count": null,
   "metadata": {},
   "outputs": [],
   "source": [
    "len(all_pos.loc[all_pos[\"class\"] == \"non-suicide\"])"
   ]
  },
  {
   "cell_type": "code",
   "execution_count": null,
   "metadata": {},
   "outputs": [],
   "source": [
    "len(all_pos.loc[all_pos[\"class\"] == \"suicide\"])"
   ]
  },
  {
   "cell_type": "code",
   "execution_count": null,
   "metadata": {},
   "outputs": [],
   "source": [
    "pos_samples = all_pos.loc[all_pos[\"class\"] == \"suicide\"]\n",
    "neg_samples = all_pos.loc[all_pos[\"class\"] == \"non-suicide\"]"
   ]
  },
  {
   "cell_type": "code",
   "execution_count": null,
   "metadata": {},
   "outputs": [],
   "source": [
    "not_size = 10000\n",
    "N = len(pos_samples)//not_size\n",
    "\n",
    "for i in range(N):\n",
    "    if i != N-1:\n",
    "        pos_subset = pos_samples[i*not_size:(i+1)*not_size]\n",
    "        neg_subset = neg_samples[i*not_size:(i+1)*not_size]\n",
    "\n",
    "        pos_subset.to_csv(\"pos_samples\"+str(i)+\".csv\",index=False)\n",
    "        neg_subset.to_csv(\"neg_samples\"+str(i)+\".csv\",index=False)\n",
    "    else:\n",
    "        pos_subset = pos_samples[(i+1)*not_size:]\n",
    "        neg_subset = neg_samples[(i+1)*not_size:]\n",
    "        pos_subset.to_csv(\"pos_samples\"+str(i)+\".csv\",index=False)\n",
    "        neg_subset.to_csv(\"neg_samples\"+str(i)+\".csv\",index=False)"
   ]
  },
  {
   "cell_type": "code",
   "execution_count": null,
   "metadata": {},
   "outputs": [],
   "source": [
    "all_pos[\"class\"] = all_pos[\"class\"].astype(\"category\")\n",
    "classdict = dict(enumerate(all_pos[\"class\"].cat.categories))\n",
    "all_pos['class'] = all_pos['class'].cat.codes"
   ]
  },
  {
   "cell_type": "code",
   "execution_count": null,
   "metadata": {},
   "outputs": [],
   "source": [
    "classdict"
   ]
  },
  {
   "cell_type": "code",
   "execution_count": null,
   "metadata": {},
   "outputs": [],
   "source": [
    "all_pos.to_csv(\"all_samples.csv\")"
   ]
  },
  {
   "cell_type": "code",
   "execution_count": null,
   "metadata": {},
   "outputs": [],
   "source": [
    "# Above is the dataset build part "
   ]
  },
  {
   "cell_type": "markdown",
   "metadata": {},
   "source": [
    "**Side Feature Construction for 3 Datasets Combined**"
   ]
  },
  {
   "cell_type": "code",
   "execution_count": null,
   "metadata": {},
   "outputs": [],
   "source": [
    "#CLASSİCAL METHODS ONLY FEATURES START HERE\n",
    "#Big Kaggle Dataset Part\n",
    "dataset = pd.read_csv(\"LIWC-results.csv\")"
   ]
  },
  {
   "cell_type": "code",
   "execution_count": null,
   "metadata": {},
   "outputs": [],
   "source": [
    "len(dataset)"
   ]
  },
  {
   "cell_type": "code",
   "execution_count": null,
   "metadata": {},
   "outputs": [],
   "source": [
    "print(len(dataset.loc[dataset[\"class\"] ==1]))\n",
    "print(len(dataset.loc[dataset[\"class\"] ==0]))"
   ]
  },
  {
   "cell_type": "code",
   "execution_count": null,
   "metadata": {},
   "outputs": [],
   "source": [
    "#DATASET PREPARATION FOR BIG KAGGLE DATA\n",
    "dataset = dataset.drop(\"Unnamed: 0\",1)\n",
    "dataset = dataset.drop(\"Unnamed: 0.1\",1)\n",
    "dataset = dataset.drop(\"text\",1)\n",
    "dataset = dataset.dropna()\n",
    "labels = dataset[\"class\"]\n",
    "labels = labels.astype(\"int\")\n",
    "data = dataset.drop(\"class\",1)"
   ]
  },
  {
   "cell_type": "code",
   "execution_count": null,
   "metadata": {},
   "outputs": [],
   "source": [
    "from mrmr import mrmr_classif\n",
    "selected_features = mrmr_classif(X=data, y=labels, K=20)"
   ]
  },
  {
   "cell_type": "code",
   "execution_count": null,
   "metadata": {},
   "outputs": [],
   "source": [
    "selected_data = pd.DataFrame()\n",
    "#selected_features = [\"Clout\",\"Tone\",\"Linguistic\",\"death\",\"WC\",\"Cognition\",\"WPS\",\"focuspast\",\"focusfuture\",\"ppron\",\"Affect\",\"money\"]\n",
    "for i in selected_features:\n",
    "    data = dataset[i]\n",
    "    selected_data[i] = data"
   ]
  },
  {
   "cell_type": "code",
   "execution_count": null,
   "metadata": {},
   "outputs": [],
   "source": [
    "means_selected_data = np.mean(selected_data)\n",
    "stds_selected_data = np.std(selected_data)\n",
    "selected_data = (selected_data-means_selected_data)/stds_selected_data"
   ]
  },
  {
   "cell_type": "code",
   "execution_count": null,
   "metadata": {},
   "outputs": [],
   "source": [
    "selected_data.head()"
   ]
  },
  {
   "cell_type": "code",
   "execution_count": null,
   "metadata": {},
   "outputs": [],
   "source": [
    "from sklearn.model_selection import train_test_split\n",
    "select_train_set,select_test_set,select_train_labels,select_test_labels = train_test_split(selected_data,labels,test_size=0.1,shuffle= True,random_state=42,stratify=labels)\n",
    "print(\"len train: \",len(select_train_set),\"len test: \",len(select_test_set))"
   ]
  },
  {
   "cell_type": "code",
   "execution_count": null,
   "metadata": {},
   "outputs": [],
   "source": [
    "import matplotlib.pyplot as plt\n",
    "\n",
    "import lightgbm\n",
    "\n",
    "from lightgbm import LGBMClassifier\n",
    "\n",
    "lgbm_model = LGBMClassifier(max_depth=3,n_estimators=1000,num_leaves=100,colsample_bynode= 0.6,colsample_bytree= 0.64079,learning_rate=0.01)\n",
    "\n",
    "lgbm_model.fit(select_train_set, select_train_labels)\n",
    "\n",
    "y_pred = lgbm_model.predict(select_test_set)\n"
   ]
  },
  {
   "cell_type": "code",
   "execution_count": null,
   "metadata": {},
   "outputs": [],
   "source": [
    "from sklearn.metrics import accuracy_score\n",
    "acc = accuracy_score(select_test_labels, y_pred)\n",
    "# Print out the mean absolute error (mae)\n",
    "print(\"Accuracy: \",acc)"
   ]
  },
  {
   "cell_type": "code",
   "execution_count": null,
   "metadata": {},
   "outputs": [],
   "source": [
    "from sklearn.metrics import confusion_matrix\n",
    "confusion_matrix(select_test_labels,y_pred)"
   ]
  },
  {
   "cell_type": "code",
   "execution_count": null,
   "metadata": {},
   "outputs": [],
   "source": [
    "#TESTING KAGGLE (SHANON) DATASET\n",
    "test_kaggle = pd.read_csv(\"kaggle_test_LIWC.csv\")"
   ]
  },
  {
   "cell_type": "code",
   "execution_count": null,
   "metadata": {},
   "outputs": [],
   "source": [
    "selected_data = pd.DataFrame()\n",
    "#selected_features = [\"Clout\",\"Tone\",\"Linguistic\",\"death\",\"WC\",\"Cognition\",\"WPS\",\"focuspast\",\"focusfuture\",\"ppron\",\"Affect\",\"money\"]\n",
    "for i in selected_features:\n",
    "    selected_data[i] = test_kaggle[i]\n",
    "kaggle_test = selected_data\n",
    "kaggle_label = test_kaggle[\"cls\"]"
   ]
  },
  {
   "cell_type": "code",
   "execution_count": null,
   "metadata": {},
   "outputs": [],
   "source": [
    "kaggle_test = (kaggle_test-means_selected_data)/stds_selected_data"
   ]
  },
  {
   "cell_type": "code",
   "execution_count": null,
   "metadata": {},
   "outputs": [],
   "source": [
    "y_pred_kaggle = lgbm_model.predict(kaggle_test)"
   ]
  },
  {
   "cell_type": "code",
   "execution_count": null,
   "metadata": {},
   "outputs": [],
   "source": [
    "from sklearn.metrics import accuracy_score\n",
    "acc = accuracy_score(kaggle_label, y_pred_kaggle)\n",
    "# Print out the mean absolute error (mae)\n",
    "print(\"Accuracy: \",acc)"
   ]
  },
  {
   "cell_type": "code",
   "execution_count": null,
   "metadata": {},
   "outputs": [],
   "source": [
    "from sklearn.metrics import confusion_matrix\n",
    "confusion_matrix(kaggle_label,y_pred_kaggle)"
   ]
  },
  {
   "cell_type": "code",
   "execution_count": null,
   "metadata": {},
   "outputs": [],
   "source": [
    "#TESTING reddıt (LIFE) DATASET\n",
    "test_reddit = pd.read_csv(\"reddit_corpus_agree_LIWC.csv\")"
   ]
  },
  {
   "cell_type": "code",
   "execution_count": null,
   "metadata": {},
   "outputs": [],
   "source": [
    "selected_data = pd.DataFrame()\n",
    "selected_features = [\"Clout\",\"Tone\",\"Linguistic\",\"death\",\"WC\",\"Cognition\",\"WPS\",\"focuspast\",\"focusfuture\",\"ppron\",\"Affect\",\"money\"]\n",
    "for i in selected_features:\n",
    "    selected_data[i] = test_reddit[i]\n",
    "reddit_test = selected_data\n",
    "test_reddit[\"cls\"][test_reddit[\"cls\"] ==\"No risk\"]=0 \n",
    "test_reddit[\"cls\"][test_reddit[\"cls\"] ==\"Risk\"]=1\n",
    "reddit_test_label = test_reddit[\"cls\"].astype(\"int\")\n"
   ]
  },
  {
   "cell_type": "code",
   "execution_count": null,
   "metadata": {},
   "outputs": [],
   "source": [
    "reddit_test = (reddit_test-means_selected_data)/stds_selected_data"
   ]
  },
  {
   "cell_type": "code",
   "execution_count": null,
   "metadata": {},
   "outputs": [],
   "source": [
    "reddit_test_label.values"
   ]
  },
  {
   "cell_type": "code",
   "execution_count": null,
   "metadata": {},
   "outputs": [],
   "source": [
    "y_pred_reddit = lgbm_model.predict(reddit_test)"
   ]
  },
  {
   "cell_type": "code",
   "execution_count": null,
   "metadata": {},
   "outputs": [],
   "source": [
    "from sklearn.metrics import accuracy_score\n",
    "acc = accuracy_score(reddit_test_label.values, y_pred_reddit)\n",
    "# Print out the mean absolute error (mae)\n",
    "print(\"Accuracy: \",acc)"
   ]
  },
  {
   "cell_type": "code",
   "execution_count": null,
   "metadata": {},
   "outputs": [],
   "source": [
    "from sklearn.metrics import confusion_matrix\n",
    "confusion_matrix(reddit_test_label.values,y_pred_reddit)"
   ]
  },
  {
   "cell_type": "markdown",
   "metadata": {},
   "source": [
    "**Large Neutral Dataset Oluşturma Kısmı (Imbalanced Classification)**"
   ]
  },
  {
   "cell_type": "code",
   "execution_count": null,
   "metadata": {},
   "outputs": [],
   "source": [
    "neutral_data = pd.read_csv(\"training.1600000.processed.noemoticon.csv\")\n",
    "neutral_data.columns = [\"Polarity\",\"Id\",\"Date\",\"Query\",\"User\",\"text\"]\n",
    "# the polarity of the tweet (0 = negative, 2 = neutral, 4 = positive)"
   ]
  },
  {
   "cell_type": "code",
   "execution_count": null,
   "metadata": {},
   "outputs": [],
   "source": [
    "neutral_data.head()\n",
    "len(neutral_data)"
   ]
  },
  {
   "cell_type": "code",
   "execution_count": null,
   "metadata": {},
   "outputs": [],
   "source": [
    "zero_col = np.zeros(len(neutral_data))\n",
    "neutral_data[\"class\"] = zero_col"
   ]
  },
  {
   "cell_type": "code",
   "execution_count": 122,
   "metadata": {},
   "outputs": [],
   "source": [
    "#Sentiment140 Neural Post Data\n",
    "neutral_sent140 = neutral_data[[\"text\",\"class\"]]\n",
    "# Save and run the LIWC\n",
    "neutral_sent140.to_csv(\"sent140_neutral.csv\")"
   ]
  },
  {
   "cell_type": "code",
   "execution_count": 123,
   "metadata": {},
   "outputs": [],
   "source": [
    "#LOAD THE LIWC RESULT\n",
    "sent140_neu = pd.read_csv(\"sent140_neutral-LIWC Analysis.csv\")"
   ]
  },
  {
   "cell_type": "code",
   "execution_count": 124,
   "metadata": {},
   "outputs": [],
   "source": [
    "sent140_labels = sent140_neu[\"class\"]\n",
    "sent140_neu_test = sent140_neu[selected_features]\n",
    "sent140_neu_test = (sent140_neu_test-means_selected_data)/stds_selected_data"
   ]
  },
  {
   "cell_type": "code",
   "execution_count": 125,
   "metadata": {},
   "outputs": [],
   "source": [
    "sen140pred = lgbm_model.predict(sent140_neu_test)"
   ]
  },
  {
   "cell_type": "code",
   "execution_count": 126,
   "metadata": {},
   "outputs": [
    {
     "data": {
      "image/png": "[encoded data removed]",
      "text/plain": [
       "<Figure size 432x288 with 2 Axes>"
      ]
     },
     "metadata": {
      "needs_background": "light"
     },
     "output_type": "display_data"
    }
   ],
   "source": [
    "import matplotlib.pyplot as plt\n",
    "from sklearn.metrics import plot_confusion_matrix\n",
    "import seaborn as sns\n",
    "cf_matrix = confusion_matrix(sent140_labels.values,sen140pred)\n",
    "\n",
    "labels = ['True Neg','False Pos','False Neg','True Pos']\n",
    "\n",
    "labels = np.asarray(labels).reshape(2,2)\n",
    "\n",
    "ax = sns.heatmap(cf_matrix, annot=cf_matrix, fmt='', cmap='Blues')\n",
    "\n",
    "ax.set_title('Seaborn Confusion Matrix with labels\\n\\n');\n",
    "ax.set_xlabel('\\nPredicted Values')\n",
    "ax.set_ylabel('Actual Values ');\n",
    "\n",
    "## Ticket labels - List must be in alphabetical order\n",
    "ax.xaxis.set_ticklabels(['False','True'])\n",
    "ax.yaxis.set_ticklabels(['False','True'])\n",
    "\n",
    "## Display the visualization of the Confusion Matrix.\n",
    "plt.show()"
   ]
  },
  {
   "cell_type": "code",
   "execution_count": 127,
   "metadata": {},
   "outputs": [
    {
     "data": {
      "image/png": "[encoded data removed]",
      "text/plain": [
       "<Figure size 432x288 with 2 Axes>"
      ]
     },
     "metadata": {
      "needs_background": "light"
     },
     "output_type": "display_data"
    }
   ],
   "source": [
    "ax = sns.heatmap(cf_matrix/np.sum(cf_matrix), annot=True, \n",
    "            fmt='.2%', cmap='Blues')\n",
    "\n",
    "ax.set_title('Seaborn Confusion Matrix with labels\\n\\n');\n",
    "ax.set_xlabel('\\nPredicted Values')\n",
    "ax.set_ylabel('Actual Values ');\n",
    "\n",
    "## Ticket labels - List must be in alphabetical order\n",
    "ax.xaxis.set_ticklabels(['False','True'])\n",
    "ax.yaxis.set_ticklabels(['False','True'])\n",
    "\n",
    "## Display the visualization of the Confusion Matrix.\n",
    "plt.show()"
   ]
  },
  {
   "cell_type": "code",
   "execution_count": null,
   "metadata": {},
   "outputs": [],
   "source": [
    "#Schoene Test\n",
    "schoene_neu = pd.read_csv(\"NEU-LIWC Analysis.csv\")\n",
    "schoene_neu.head()\n",
    "schoene_neu.drop(columns=[\"labels\"],inplace= True)\n",
    "schoene_neu[\"class\"] = np.zeros(len(schoene_neu))"
   ]
  },
  {
   "cell_type": "code",
   "execution_count": null,
   "metadata": {},
   "outputs": [],
   "source": [
    "schoene_neu_labels = schoene_neu[\"class\"]\n",
    "schoene_neu_test = schoene_neu[selected_features]\n",
    "schoene_neu_test = (schoene_neu_test-means_selected_data)/stds_selected_data"
   ]
  },
  {
   "cell_type": "code",
   "execution_count": null,
   "metadata": {},
   "outputs": [],
   "source": [
    "schoene_neu_pred = lgbm_model.predict(schoene_neu_test)"
   ]
  },
  {
   "cell_type": "code",
   "execution_count": null,
   "metadata": {},
   "outputs": [],
   "source": [
    "import matplotlib.pyplot as plt\n",
    "from sklearn.metrics import plot_confusion_matrix\n",
    "import seaborn as sns\n",
    "cf_matrix = confusion_matrix(schoene_neu_labels.values,schoene_neu_pred)\n",
    "\n",
    "labels = ['True Neg','False Pos','False Neg','True Pos']\n",
    "\n",
    "labels = np.asarray(cf_matrix).reshape(2,2)\n",
    "\n",
    "ax = sns.heatmap(cf_matrix, annot=labels, fmt='', cmap='Blues')\n",
    "\n",
    "ax.set_title('Seaborn Confusion Matrix with labels\\n\\n');\n",
    "ax.set_xlabel('\\nPredicted Values')\n",
    "ax.set_ylabel('Actual Values ');\n",
    "\n",
    "## Ticket labels - List must be in alphabetical order\n",
    "ax.xaxis.set_ticklabels(['False','True'])\n",
    "ax.yaxis.set_ticklabels(['False','True'])\n",
    "\n",
    "## Display the visualization of the Confusion Matrix.\n",
    "plt.show()"
   ]
  },
  {
   "cell_type": "code",
   "execution_count": null,
   "metadata": {},
   "outputs": [],
   "source": [
    "ax = sns.heatmap(cf_matrix/np.sum(cf_matrix), annot=True, \n",
    "            fmt='.2%', cmap='Blues')\n",
    "\n",
    "ax.set_title('Seaborn Confusion Matrix with labels\\n\\n');\n",
    "ax.set_xlabel('\\nPredicted Values')\n",
    "ax.set_ylabel('Actual Values ');\n",
    "\n",
    "## Ticket labels - List must be in alphabetical order\n",
    "ax.xaxis.set_ticklabels(['False','True'])\n",
    "ax.yaxis.set_ticklabels(['False','True'])\n",
    "\n",
    "## Display the visualization of the Confusion Matrix.\n",
    "plt.show()"
   ]
  },
  {
   "cell_type": "code",
   "execution_count": null,
   "metadata": {},
   "outputs": [],
   "source": [
    "schoene_all_test = np.append(kaggle_test,schoene_neu_test,axis=0)\n",
    "schoene_all_labels = np.append(kaggle_label,schoene_neu_labels,axis=0)"
   ]
  },
  {
   "cell_type": "code",
   "execution_count": null,
   "metadata": {},
   "outputs": [],
   "source": [
    "schoene_all_pred = lgbm_model.predict(schoene_all_test)"
   ]
  },
  {
   "cell_type": "code",
   "execution_count": null,
   "metadata": {},
   "outputs": [],
   "source": [
    "len(schoene_all_labels)"
   ]
  },
  {
   "cell_type": "code",
   "execution_count": null,
   "metadata": {},
   "outputs": [],
   "source": [
    "import matplotlib.pyplot as plt\n",
    "from sklearn.metrics import plot_confusion_matrix\n",
    "import seaborn as sns\n",
    "cf_matrix = confusion_matrix(schoene_all_labels,schoene_all_pred)\n",
    "\n",
    "labels = ['True Neg','False Pos','False Neg','True Pos']\n",
    "\n",
    "labels = np.asarray(cf_matrix).reshape(2,2)\n",
    "\n",
    "ax = sns.heatmap(cf_matrix, annot=labels, fmt='', cmap='Blues')\n",
    "\n",
    "ax.set_title('Seaborn Confusion Matrix with labels\\n\\n');\n",
    "ax.set_xlabel('\\nPredicted Values')\n",
    "ax.set_ylabel('Actual Values ');\n",
    "\n",
    "## Ticket labels - List must be in alphabetical order\n",
    "ax.xaxis.set_ticklabels(['False','True'])\n",
    "ax.yaxis.set_ticklabels(['False','True'])\n",
    "\n",
    "## Display the visualization of the Confusion Matrix.\n",
    "plt.show()"
   ]
  },
  {
   "cell_type": "code",
   "execution_count": null,
   "metadata": {},
   "outputs": [],
   "source": [
    "ax = sns.heatmap(cf_matrix/np.sum(cf_matrix), annot=True, \n",
    "            fmt='.2%', cmap='Blues')\n",
    "\n",
    "ax.set_title('Seaborn Confusion Matrix with labels\\n\\n');\n",
    "ax.set_xlabel('\\nPredicted Values')\n",
    "ax.set_ylabel('Actual Values ');\n",
    "\n",
    "## Ticket labels - List must be in alphabetical order\n",
    "ax.xaxis.set_ticklabels(['False','True'])\n",
    "ax.yaxis.set_ticklabels(['False','True'])\n",
    "\n",
    "## Display the visualization of the Confusion Matrix.\n",
    "plt.show()"
   ]
  },
  {
   "cell_type": "code",
   "execution_count": null,
   "metadata": {},
   "outputs": [],
   "source": [
    "import sklearn\n",
    "recall = sklearn.metrics.recall_score(schoene_all_labels,schoene_all_pred)\n",
    "precision = sklearn.metrics.precision_score(schoene_all_labels,schoene_all_pred)\n",
    "f1 =  sklearn.metrics.f1_score(schoene_all_labels,schoene_all_pred)\n",
    "print(\"Recal: \", recall,\" Precision: \",precision,\" F1 Score: \",f1)"
   ]
  },
  {
   "cell_type": "markdown",
   "metadata": {},
   "source": [
    "**Asdnin Ayırdığı Data için Yazılmış Kısım (aynı)**"
   ]
  },
  {
   "cell_type": "code",
   "execution_count": null,
   "metadata": {},
   "outputs": [],
   "source": [
    "data = torch.load('processed_dataset_sf.pt')\n",
    "train_inputs = data['train_inputs']\n",
    "train_masks = data['train_masks']\n",
    "train_labels = data['train_labels']\n",
    "side_features_train = data['side_features_train']\n",
    "val_inputs = data['val_inputs']\n",
    "val_masks = data['val_masks']\n",
    "val_labels = data['val_labels']\n",
    "side_features_val = data['side_features_val']"
   ]
  },
  {
   "cell_type": "code",
   "execution_count": null,
   "metadata": {},
   "outputs": [],
   "source": [
    "side_features_train.shape"
   ]
  },
  {
   "cell_type": "code",
   "execution_count": null,
   "metadata": {},
   "outputs": [],
   "source": [
    "import matplotlib.pyplot as plt\n",
    "\n",
    "import lightgbm\n",
    "\n",
    "from lightgbm import LGBMClassifier\n",
    "\n",
    "lgbm_model = LGBMClassifier(max_depth=3,n_estimators=1000,num_leaves=100,colsample_bynode= 0.6,colsample_bytree= 0.64079,learning_rate=0.01)\n",
    "\n",
    "lgbm_model.fit(side_features_train, train_labels)\n",
    "\n",
    "y_pred = lgbm_model.predict(side_features_val)"
   ]
  },
  {
   "cell_type": "code",
   "execution_count": null,
   "metadata": {},
   "outputs": [],
   "source": [
    "from sklearn.metrics import accuracy_score\n",
    "acc = accuracy_score(val_labels, y_pred)\n",
    "# Print out the mean absolute error (mae)\n",
    "print(\"Accuracy: \",acc)"
   ]
  },
  {
   "cell_type": "code",
   "execution_count": null,
   "metadata": {},
   "outputs": [],
   "source": []
  }
 ],
 "metadata": {
  "interpreter": {
   "hash": "5f4b748f4256bfd65dd2ef4d45f70b1f175df01d085382b500cbdc41d78a0c70"
  },
  "kernelspec": {
   "display_name": "Python 3.7.11 ('malsd')",
   "language": "python",
   "name": "python3"
  },
  "language_info": {
   "codemirror_mode": {
    "name": "ipython",
    "version": 3
   },
   "file_extension": ".py",
   "mimetype": "text/x-python",
   "name": "python",
   "nbconvert_exporter": "python",
   "pygments_lexer": "ipython3",
   "version": "3.7.13"
  },
  "orig_nbformat": 4
 },
 "nbformat": 4,
 "nbformat_minor": 2
}
